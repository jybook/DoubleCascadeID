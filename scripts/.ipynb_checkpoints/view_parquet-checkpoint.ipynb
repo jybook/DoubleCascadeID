{
 "cells": [
  {
   "cell_type": "code",
   "execution_count": 1,
   "metadata": {},
   "outputs": [],
   "source": [
    "import pandas as pd\n"
   ]
  },
  {
   "cell_type": "code",
   "execution_count": 2,
   "metadata": {},
   "outputs": [],
   "source": [
    "MC_DIR = '/n/holylfs05/LABS/arguelles_delgado_lab/Lab/IceCube_MC/HNL/parquet/'\n",
    "SIGNAL_DIRS = ['190301', '190302', '190303', '190304', '190305', '190306', '190307', '190308']\n",
    "BACKGROUND_DIRS = ['oscNext']\n",
    "#Both of these have sub-folders 'SRTInIcePulses' and 'truth'\n"
   ]
  },
  {
   "cell_type": "code",
   "execution_count": 4,
   "metadata": {},
   "outputs": [
    {
     "name": "stdout",
     "output_type": "stream",
     "text": [
      "               energy  position_x  position_y  position_z   azimuth    zenith  \\\n",
      "event_no                                                                        \n",
      "0         4364.911460  406.533677 -140.041175  -25.513826  1.775740  2.512907   \n",
      "1         1369.191799 -359.552186  201.005023 -233.752748  5.197904  2.788153   \n",
      "2          275.798554  169.479933 -137.290650 -302.993859  4.816091  2.165693   \n",
      "3          282.991576  225.257935  320.672286 -473.885887  3.714113  2.674953   \n",
      "4          126.314423  273.499897  120.716152 -288.062270  4.565181  1.947197   \n",
      "\n",
      "          pid          event_time sim_type  interaction_type  ...  \\\n",
      "event_no                                                      ...   \n",
      "0          16  108790874074374550    NuGen              -1.0  ...   \n",
      "1          16  108790874074374480    NuGen              -1.0  ...   \n",
      "2          16  108790874074373590    NuGen              -1.0  ...   \n",
      "3          16  108790874074374030    NuGen              -1.0  ...   \n",
      "4          16  108790874074375220    NuGen              -1.0  ...   \n",
      "\n",
      "          inelasticity  DeepCoreFilter_13  CascadeFilter_13  MuonFilter_13  \\\n",
      "event_no                                                                     \n",
      "0                   -1                  0                 1              1   \n",
      "1                   -1                  0                 1              1   \n",
      "2                   -1                  1                 1              1   \n",
      "3                   -1                  0                 0              0   \n",
      "4                   -1                  1                 0              0   \n",
      "\n",
      "          OnlineL2Filter_17  L3_oscNext_bool  L4_oscNext_bool  \\\n",
      "event_no                                                        \n",
      "0                         1               -1               -1   \n",
      "1                         0               -1               -1   \n",
      "2                         1               -1               -1   \n",
      "3                         0               -1               -1   \n",
      "4                         0               -1               -1   \n",
      "\n",
      "          L5_oscNext_bool  L6_oscNext_bool  L7_oscNext_bool  \n",
      "event_no                                                     \n",
      "0                      -1               -1               -1  \n",
      "1                      -1               -1               -1  \n",
      "2                      -1               -1               -1  \n",
      "3                      -1               -1               -1  \n",
      "4                      -1               -1               -1  \n",
      "\n",
      "[5 rows x 30 columns]\n"
     ]
    }
   ],
   "source": [
    "df = pd.read_parquet(MC_DIR + SIGNAL_DIRS[0] + '/truth/0_0_truth.parquet')\n",
    "\n",
    "# Display the first few rows\n",
    "print(df.head())"
   ]
  },
  {
   "cell_type": "code",
   "execution_count": null,
   "metadata": {},
   "outputs": [],
   "source": []
  }
 ],
 "metadata": {
  "kernelspec": {
   "display_name": "Python 3",
   "language": "python",
   "name": "python3"
  },
  "language_info": {
   "codemirror_mode": {
    "name": "ipython",
    "version": 3
   },
   "file_extension": ".py",
   "mimetype": "text/x-python",
   "name": "python",
   "nbconvert_exporter": "python",
   "pygments_lexer": "ipython3",
   "version": "3.7.5"
  }
 },
 "nbformat": 4,
 "nbformat_minor": 2
}
