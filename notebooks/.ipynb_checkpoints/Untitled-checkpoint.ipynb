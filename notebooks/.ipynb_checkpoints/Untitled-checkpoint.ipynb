{
 "cells": [
  {
   "cell_type": "code",
   "execution_count": 1,
   "metadata": {},
   "outputs": [],
   "source": [
    "import pandas as pd\n",
    "import numpy as np\n",
    "import matplotlib.pyplot as plt"
   ]
  },
  {
   "cell_type": "code",
   "execution_count": 2,
   "metadata": {},
   "outputs": [
    {
     "data": {
      "text/plain": [
       "Index(['Unnamed: 0', 'energy_pred', 'energy', 'event_no'], dtype='object')"
      ]
     },
     "execution_count": 2,
     "metadata": {},
     "output_type": "execute_result"
    }
   ],
   "source": [
    "training_results = pd.read_csv(\"/n/holylfs05/LABS/arguelles_delgado_lab/Everyone/jbook/double_cascade_identification/training_output/train_model_without_configs/merged/dynedge_energy_example/energy_results.csv\")\n",
    "training_results.keys()\n"
   ]
  },
  {
   "cell_type": "code",
   "execution_count": 3,
   "metadata": {},
   "outputs": [],
   "source": [
    "new_training_results = pd.read_csv(\"/n/holylfs05/LABS/arguelles_delgado_lab/Everyone/jbook/double_cascade_identification/training_output/train_model_without_configs_021125/merged_files/dynedge_energy_example/energy_results.csv\")"
   ]
  },
  {
   "cell_type": "code",
   "execution_count": 4,
   "metadata": {},
   "outputs": [
    {
     "data": {
      "text/plain": [
       "Index(['Unnamed: 0', 'energy_pred', 'pid', 'energy', 'event_no'], dtype='object')"
      ]
     },
     "execution_count": 4,
     "metadata": {},
     "output_type": "execute_result"
    }
   ],
   "source": [
    "new_training_results.keys()"
   ]
  },
  {
   "cell_type": "code",
   "execution_count": 5,
   "metadata": {
    "scrolled": false
   },
   "outputs": [
    {
     "data": {
      "text/plain": [
       "Text(0.5, 1.0, '1 file, 1 epoch')"
      ]
     },
     "execution_count": 5,
     "metadata": {},
     "output_type": "execute_result"
    },
    {
     "data": {
      "image/png": "[encoded data removed]",
      "text/plain": [
       "<Figure size 432x288 with 1 Axes>"
      ]
     },
     "metadata": {
      "needs_background": "light"
     },
     "output_type": "display_data"
    }
   ],
   "source": [
    "bins = np.logspace(0, 5, 50)\n",
    "\n",
    "plt.hist(training_results['energy'], histtype=\"step\", bins=bins, label=\"truth (MC)\")\n",
    "plt.hist(training_results['energy_pred'], histtype=\"step\", bins=bins, label=\"prediction after 1 epoch\")\n",
    "\n",
    "plt.xscale('log')\n",
    "plt.yscale('log')\n",
    "plt.legend()\n",
    "\n",
    "plt.xlabel(\"Energy(GeV)\")\n",
    "plt.title(\"1 file, 1 epoch\")"
   ]
  },
  {
   "cell_type": "markdown",
   "metadata": {},
   "source": [
    "Two figures to work towards: \n",
    "Classification score for signal vs background\n"
   ]
  },
  {
   "cell_type": "code",
   "execution_count": 6,
   "metadata": {
    "scrolled": true
   },
   "outputs": [
    {
     "data": {
      "text/plain": [
       "Text(0.5, 1.0, 'all simulation plus one background, 1 epoch')"
      ]
     },
     "execution_count": 6,
     "metadata": {},
     "output_type": "execute_result"
    },
    {
     "data": {
      "image/png": "[encoded data removed]",
      "text/plain": [
       "<Figure size 432x288 with 1 Axes>"
      ]
     },
     "metadata": {
      "needs_background": "light"
     },
     "output_type": "display_data"
    }
   ],
   "source": [
    "plt.hist(new_training_results['energy'], histtype=\"step\", bins=bins, label=\"truth (MC)\")\n",
    "plt.hist(new_training_results['energy_pred'], histtype=\"step\", bins=bins, label=\"prediction after 1 epoch\")\n",
    "\n",
    "plt.xscale('log')\n",
    "plt.yscale('log')\n",
    "plt.legend()\n",
    "\n",
    "plt.xlabel(\"Energy(GeV)\")\n",
    "plt.title(\"all simulation plus one background, 10 epochs\")"
   ]
  },
  {
   "cell_type": "markdown",
   "metadata": {},
   "source": [
    "## Playing with the SQLite databses"
   ]
  },
  {
   "cell_type": "code",
   "execution_count": 12,
   "metadata": {},
   "outputs": [],
   "source": [
    "import os\n",
    "import glob as glob\n",
    "\n",
    "# import sqlite module database \n",
    "import sqlite3 \n",
    "\n",
    "data_parent_dir = '/n/holylfs05/LABS/arguelles_delgado_lab/Lab/IceCube_MC/HNL/sqlite/'\n",
    "dataset_ids = [190301, 190302, 190303, 190304, 190305, 190306, 190307, 190308]\n",
    "background_ids =  ['oscNext']\n",
    "\n",
    "dataset_paths = []\n",
    "for did in dataset_ids:\n",
    "    dataset_paths.extend(glob.glob(os.path.join(data_parent_dir, \"{}\".format(did), \"merged/merged.db\")))\n",
    "\n",
    "background_paths = []\n",
    "for did in background_ids:\n",
    "    background_paths.extend(glob.glob(os.path.join(data_parent_dir, \"{}\".format(did), \"merged/merged.db\")))\n",
    "    "
   ]
  },
  {
   "cell_type": "code",
   "execution_count": 13,
   "metadata": {},
   "outputs": [
    {
     "data": {
      "text/plain": [
       "['/n/holylfs05/LABS/arguelles_delgado_lab/Lab/IceCube_MC/HNL/sqlite/oscNext/merged/merged.db']"
      ]
     },
     "execution_count": 13,
     "metadata": {},
     "output_type": "execute_result"
    }
   ],
   "source": [
    "dataset_paths\n",
    "background_paths"
   ]
  },
  {
   "cell_type": "code",
   "execution_count": 15,
   "metadata": {
    "scrolled": true
   },
   "outputs": [],
   "source": [
    "  # create connection to the database \n",
    "connection = sqlite3.connect(dataset_paths[0]) \n",
    "background_conn = sqlite3.connect(background_paths[0])\n",
    "# query to display all data in the table \n",
    "cursor = connection.execute(\"SELECT * from truth\") \n",
    "\n",
    "# display row by row \n",
    "# for row in cursor: \n",
    "#     print(row) \n",
    "    \n",
    "# print(cursor.description)"
   ]
  },
  {
   "cell_type": "markdown",
   "metadata": {},
   "source": [
    "Because the I3 to SQLite converter uses the particle primary ID as PID, nutau -> HNL interactions are labeled as nutaus. We want to differentiate between these and regular nutau events, so when we train on PID, we need to ensure that HNLs have a distinct PID from other tau neutrino events. This way, we can (potentially) differentiate between regular nutau double-cascades and ours."
   ]
  },
  {
   "cell_type": "code",
   "execution_count": 26,
   "metadata": {},
   "outputs": [],
   "source": [
    "for path in dataset_paths:\n",
    "    connection = sqlite3.connect(path)\n",
    "    c1 = connection.cursor()\n",
    "    \n",
    "    # relabel HNLs with correct PID\n",
    "    c1.execute('''UPDATE truth SET pid = 19.0 where pid = 16.0''')\n",
    "    c1.execute('''UPDATE truth SET pid = -19.0 where pid = -16.0''')\n",
    "    \n",
    "    # Commit your changes in the database \n",
    "    connection.commit() \n",
    "  \n",
    "    # Closing the connection \n",
    "    connection.close() "
   ]
  },
  {
   "cell_type": "code",
   "execution_count": 27,
   "metadata": {
    "scrolled": true
   },
   "outputs": [
    {
     "data": {
      "text/plain": [
       "0       19.0\n",
       "1       19.0\n",
       "2       19.0\n",
       "3       19.0\n",
       "4       19.0\n",
       "        ... \n",
       "6620   -19.0\n",
       "6621   -19.0\n",
       "6622   -19.0\n",
       "6623   -19.0\n",
       "6624   -19.0\n",
       "Name: pid, Length: 6625, dtype: float64"
      ]
     },
     "execution_count": 27,
     "metadata": {},
     "output_type": "execute_result"
    }
   ],
   "source": [
    "connection = sqlite3.connect(dataset_paths[1])\n",
    "sql_query = \"SELECT * from truth\"\n",
    "db = pd.read_sql(sql_query, connection)\n",
    "db['pid']"
   ]
  },
  {
   "cell_type": "code",
   "execution_count": 31,
   "metadata": {},
   "outputs": [
    {
     "data": {
      "text/html": [
       "<div>\n",
       "<style scoped>\n",
       "    .dataframe tbody tr th:only-of-type {\n",
       "        vertical-align: middle;\n",
       "    }\n",
       "\n",
       "    .dataframe tbody tr th {\n",
       "        vertical-align: top;\n",
       "    }\n",
       "\n",
       "    .dataframe thead th {\n",
       "        text-align: right;\n",
       "    }\n",
       "</style>\n",
       "<table border=\"1\" class=\"dataframe\">\n",
       "  <thead>\n",
       "    <tr style=\"text-align: right;\">\n",
       "      <th></th>\n",
       "      <th>energy</th>\n",
       "      <th>position_x</th>\n",
       "      <th>position_y</th>\n",
       "      <th>position_z</th>\n",
       "      <th>azimuth</th>\n",
       "      <th>zenith</th>\n",
       "      <th>pid</th>\n",
       "      <th>event_time</th>\n",
       "      <th>sim_type</th>\n",
       "      <th>interaction_type</th>\n",
       "      <th>...</th>\n",
       "      <th>DeepCoreFilter_13</th>\n",
       "      <th>CascadeFilter_13</th>\n",
       "      <th>MuonFilter_13</th>\n",
       "      <th>OnlineL2Filter_17</th>\n",
       "      <th>L3_oscNext_bool</th>\n",
       "      <th>L4_oscNext_bool</th>\n",
       "      <th>L5_oscNext_bool</th>\n",
       "      <th>L6_oscNext_bool</th>\n",
       "      <th>L7_oscNext_bool</th>\n",
       "      <th>event_no</th>\n",
       "    </tr>\n",
       "  </thead>\n",
       "  <tbody>\n",
       "    <tr>\n",
       "      <th>0</th>\n",
       "      <td>275.921733</td>\n",
       "      <td>293.036626</td>\n",
       "      <td>254.731385</td>\n",
       "      <td>-11.589245</td>\n",
       "      <td>0.659428</td>\n",
       "      <td>1.602413</td>\n",
       "      <td>16.0</td>\n",
       "      <td>1.087909e+17</td>\n",
       "      <td>NuGen</td>\n",
       "      <td>-1.0</td>\n",
       "      <td>...</td>\n",
       "      <td>0.0</td>\n",
       "      <td>0.0</td>\n",
       "      <td>0.0</td>\n",
       "      <td>0.0</td>\n",
       "      <td>-1.0</td>\n",
       "      <td>-1.0</td>\n",
       "      <td>-1.0</td>\n",
       "      <td>-1.0</td>\n",
       "      <td>-1.0</td>\n",
       "      <td>0</td>\n",
       "    </tr>\n",
       "    <tr>\n",
       "      <th>1</th>\n",
       "      <td>126.146470</td>\n",
       "      <td>120.049451</td>\n",
       "      <td>-35.044322</td>\n",
       "      <td>-537.947832</td>\n",
       "      <td>1.933734</td>\n",
       "      <td>2.426962</td>\n",
       "      <td>16.0</td>\n",
       "      <td>1.087909e+17</td>\n",
       "      <td>NuGen</td>\n",
       "      <td>-1.0</td>\n",
       "      <td>...</td>\n",
       "      <td>1.0</td>\n",
       "      <td>1.0</td>\n",
       "      <td>1.0</td>\n",
       "      <td>1.0</td>\n",
       "      <td>-1.0</td>\n",
       "      <td>-1.0</td>\n",
       "      <td>-1.0</td>\n",
       "      <td>-1.0</td>\n",
       "      <td>-1.0</td>\n",
       "      <td>1</td>\n",
       "    </tr>\n",
       "    <tr>\n",
       "      <th>2</th>\n",
       "      <td>428.220428</td>\n",
       "      <td>-349.453769</td>\n",
       "      <td>-287.091587</td>\n",
       "      <td>-305.071715</td>\n",
       "      <td>2.363322</td>\n",
       "      <td>1.547374</td>\n",
       "      <td>16.0</td>\n",
       "      <td>1.087909e+17</td>\n",
       "      <td>NuGen</td>\n",
       "      <td>-1.0</td>\n",
       "      <td>...</td>\n",
       "      <td>0.0</td>\n",
       "      <td>1.0</td>\n",
       "      <td>1.0</td>\n",
       "      <td>1.0</td>\n",
       "      <td>-1.0</td>\n",
       "      <td>-1.0</td>\n",
       "      <td>-1.0</td>\n",
       "      <td>-1.0</td>\n",
       "      <td>-1.0</td>\n",
       "      <td>2</td>\n",
       "    </tr>\n",
       "    <tr>\n",
       "      <th>3</th>\n",
       "      <td>922.725951</td>\n",
       "      <td>259.468758</td>\n",
       "      <td>-340.096311</td>\n",
       "      <td>-521.784582</td>\n",
       "      <td>3.758075</td>\n",
       "      <td>2.329445</td>\n",
       "      <td>16.0</td>\n",
       "      <td>1.087909e+17</td>\n",
       "      <td>NuGen</td>\n",
       "      <td>-1.0</td>\n",
       "      <td>...</td>\n",
       "      <td>0.0</td>\n",
       "      <td>1.0</td>\n",
       "      <td>1.0</td>\n",
       "      <td>1.0</td>\n",
       "      <td>-1.0</td>\n",
       "      <td>-1.0</td>\n",
       "      <td>-1.0</td>\n",
       "      <td>-1.0</td>\n",
       "      <td>-1.0</td>\n",
       "      <td>3</td>\n",
       "    </tr>\n",
       "    <tr>\n",
       "      <th>4</th>\n",
       "      <td>188.055100</td>\n",
       "      <td>-349.570891</td>\n",
       "      <td>372.299201</td>\n",
       "      <td>-72.548247</td>\n",
       "      <td>1.927923</td>\n",
       "      <td>2.025118</td>\n",
       "      <td>16.0</td>\n",
       "      <td>1.087909e+17</td>\n",
       "      <td>NuGen</td>\n",
       "      <td>-1.0</td>\n",
       "      <td>...</td>\n",
       "      <td>0.0</td>\n",
       "      <td>0.0</td>\n",
       "      <td>0.0</td>\n",
       "      <td>0.0</td>\n",
       "      <td>-1.0</td>\n",
       "      <td>-1.0</td>\n",
       "      <td>-1.0</td>\n",
       "      <td>-1.0</td>\n",
       "      <td>-1.0</td>\n",
       "      <td>4</td>\n",
       "    </tr>\n",
       "  </tbody>\n",
       "</table>\n",
       "<p>5 rows × 31 columns</p>\n",
       "</div>"
      ],
      "text/plain": [
       "       energy  position_x  position_y  position_z   azimuth    zenith   pid  \\\n",
       "0  275.921733  293.036626  254.731385  -11.589245  0.659428  1.602413  16.0   \n",
       "1  126.146470  120.049451  -35.044322 -537.947832  1.933734  2.426962  16.0   \n",
       "2  428.220428 -349.453769 -287.091587 -305.071715  2.363322  1.547374  16.0   \n",
       "3  922.725951  259.468758 -340.096311 -521.784582  3.758075  2.329445  16.0   \n",
       "4  188.055100 -349.570891  372.299201  -72.548247  1.927923  2.025118  16.0   \n",
       "\n",
       "     event_time sim_type  interaction_type  ...  DeepCoreFilter_13  \\\n",
       "0  1.087909e+17    NuGen              -1.0  ...                0.0   \n",
       "1  1.087909e+17    NuGen              -1.0  ...                1.0   \n",
       "2  1.087909e+17    NuGen              -1.0  ...                0.0   \n",
       "3  1.087909e+17    NuGen              -1.0  ...                0.0   \n",
       "4  1.087909e+17    NuGen              -1.0  ...                0.0   \n",
       "\n",
       "   CascadeFilter_13  MuonFilter_13  OnlineL2Filter_17  L3_oscNext_bool  \\\n",
       "0               0.0            0.0                0.0             -1.0   \n",
       "1               1.0            1.0                1.0             -1.0   \n",
       "2               1.0            1.0                1.0             -1.0   \n",
       "3               1.0            1.0                1.0             -1.0   \n",
       "4               0.0            0.0                0.0             -1.0   \n",
       "\n",
       "   L4_oscNext_bool  L5_oscNext_bool  L6_oscNext_bool  L7_oscNext_bool  \\\n",
       "0             -1.0             -1.0             -1.0             -1.0   \n",
       "1             -1.0             -1.0             -1.0             -1.0   \n",
       "2             -1.0             -1.0             -1.0             -1.0   \n",
       "3             -1.0             -1.0             -1.0             -1.0   \n",
       "4             -1.0             -1.0             -1.0             -1.0   \n",
       "\n",
       "   event_no  \n",
       "0         0  \n",
       "1         1  \n",
       "2         2  \n",
       "3         3  \n",
       "4         4  \n",
       "\n",
       "[5 rows x 31 columns]"
      ]
     },
     "execution_count": 31,
     "metadata": {},
     "output_type": "execute_result"
    }
   ],
   "source": [
    "background_conn = sqlite3.connect(dataset_paths[7])\n",
    "background_db = pd.read_sql(sql_query, background_conn)\n",
    "background_db.head()"
   ]
  },
  {
   "cell_type": "code",
   "execution_count": 33,
   "metadata": {},
   "outputs": [
    {
     "data": {
      "text/plain": [
       "205    -16.0\n",
       "206    -16.0\n",
       "207    -16.0\n",
       "208    -16.0\n",
       "209    -16.0\n",
       "        ... \n",
       "7570   -16.0\n",
       "7571   -16.0\n",
       "7572   -16.0\n",
       "7573   -16.0\n",
       "7574   -16.0\n",
       "Name: pid, Length: 3663, dtype: float64"
      ]
     },
     "execution_count": 33,
     "metadata": {},
     "output_type": "execute_result"
    }
   ],
   "source": [
    "mask = background_db['pid']!=16.0\n",
    "background_db['pid'][mask]"
   ]
  },
  {
   "cell_type": "code",
   "execution_count": 30,
   "metadata": {},
   "outputs": [
    {
     "data": {
      "text/plain": [
       "0       326.427683\n",
       "1       242.947394\n",
       "2        43.071772\n",
       "3        22.644649\n",
       "4         2.458134\n",
       "           ...    \n",
       "1287     60.620294\n",
       "1288    539.112586\n",
       "1289     11.491446\n",
       "1290    132.158447\n",
       "1291      4.356276\n",
       "Name: dbang_decay_length, Length: 1292, dtype: float64"
      ]
     },
     "execution_count": 30,
     "metadata": {},
     "output_type": "execute_result"
    }
   ],
   "source": [
    "db['dbang_decay_length']"
   ]
  },
  {
   "cell_type": "markdown",
   "metadata": {},
   "source": [
    "## Weighting\n",
    "\n",
    "Now, let's try to pull the weights from I3 files and add them to the slqite databases. For the background files, let's use 'TotalInteractionProbabilityWeight' from the I3MCWeightDict. For the signal files, we'll pull the LeptonInjectorWeight and recalculate the lifetime weight with a few values of U_tau^2, and set one of them to be called 'TotalInteractionProbabilityWeight' and used in training. We can change this later, because we're not actually training on the weights.\n",
    "\n",
    "For now, for comparison to the previous analysis, we'll stick with 10^-3 for our mixing^2. "
   ]
  },
  {
   "cell_type": "code",
   "execution_count": 59,
   "metadata": {},
   "outputs": [],
   "source": [
    "from I3Tray import I3Tray\n",
    "from icecube import icetray, dataio, dataclasses, simclasses\n",
    "from icecube.LeptonInjector import weight_hnl_generation, load_generation_weighting_files, weight_hnl_lifetime_framewise\n",
    "from icecube.LeptonInjector.oscnext_frame_objects_weighting import create_weight_dict\n",
    "from icecube.LeptonInjector import hnl_weighting\n",
    "import LeptonWeighter as LW\n",
    "\n",
    "try: from tqdm import tqdm\n",
    "except: tqdm = lambda x: x"
   ]
  },
  {
   "cell_type": "code",
   "execution_count": 60,
   "metadata": {},
   "outputs": [],
   "source": [
    "def weight_hnl_lifetime_framewise_modified(\n",
    "    frame,\n",
    "    U_tau4_sq=1e-03,\n",
    "    c=hnl_weighting.LIGHTSPEED,\n",
    "    hbar=hnl_weighting.REDUCEDPLANCK,\n",
    "):\n",
    "    \"\"\"\n",
    "    Function to calculate the lifetime weight per frame (assuming 1/L length sampling) and also add total reference weight for this mixing if wanted.\n",
    "\n",
    "    Parameters\n",
    "    ----------\n",
    "    U_tau4_sq : float\n",
    "        Chosen mixing strength.\n",
    "    \"\"\"\n",
    "\n",
    "    # Get the weight dict\n",
    "    with UpdateFrameObject(frame, WEIGHT_DICT_KEY) as weight_dict:\n",
    "\n",
    "        ##### get needed inputs #####\n",
    "        # get event properties\n",
    "        EventProperties = frame['EventProperties']\n",
    "        mass = EventProperties.mHNL  # HNL mass in GeV\n",
    "\n",
    "        # get hnl energy\n",
    "        hnl_true = (frame[\"I3MCTree\"].get_daughters(frame[\"I3MCTree\"].primaries[0]))[0]\n",
    "        assert hnl_true.type == dataclasses.I3Particle.HNL or dataclasses.I3Particle.HNLBar\n",
    "        energy = hnl_true.energy  # HNL kinetic energy in GeV\n",
    "\n",
    "        # get event properties\n",
    "        tau = EventProperties.lifetime  # HNL lifetime in rest frame in ns\n",
    "        distance_min = EventProperties.distanceMin  # generation decay length minimum in m\n",
    "        distance_max = EventProperties.distanceMax  # generation decay length maximum in m\n",
    "        ##### end #####\n",
    "\n",
    "        gamma = np.sqrt(energy**2 + mass**2) / mass  # Etot/E0\n",
    "        speed = c * np.sqrt(1 - np.power(1.0 / gamma, 2))  # c * sqrt(1-1/gamma^2)\n",
    "\n",
    "        tau_min = distance_min / (gamma * speed)\n",
    "        tau_max = distance_max / (gamma * speed)\n",
    "\n",
    "        tau = 1e-09 * tau  # convert to seconds\n",
    "        tau_proper = hbar / (FullWidth_Array(mass) * U_tau4_sq)\n",
    "\n",
    "        pdf_inverse = (1.0 / (np.log(tau_max) - np.log(tau_min))) * (\n",
    "            1.0 / tau\n",
    "        )  # for 1/L sampling of decay length\n",
    "\n",
    "        pdf_exp1 = 1.0 / tau_proper\n",
    "        pdf_exp2 = np.exp(-tau / tau_proper)\n",
    "\n",
    "        pdf_exp = pdf_exp1 * pdf_exp2\n",
    "\n",
    "        weight_lifetime = pdf_exp / pdf_inverse\n",
    "\n",
    "    return weight_lifetime\n"
   ]
  },
  {
   "cell_type": "code",
   "execution_count": null,
   "metadata": {},
   "outputs": [],
   "source": [
    "# Read in I3 files:\n",
    "\n",
    "#Should read det level files\n",
    "def get_weights(files, nfiles=None):\n",
    "    U_tau_sq = 10e-3\n",
    "    weights = []\n",
    "    \n",
    "    if nfiles is None: nfiles = len(files)\n",
    "\n",
    "    # Loop over the files\n",
    "    for f in tqdm(files):\n",
    "        i3file = dataio.I3File(f)\n",
    "        \n",
    "        # And loop through frames for this file\n",
    "        while i3file.more():\n",
    "            frame = i3file.pop_frame()\n",
    "            \n",
    "            if frame.Stop != icetray.I3Frame.DAQ: \n",
    "                continue\n",
    "                \n",
    "            if not frame.Has(\"I3MCWeightDict\"):\n",
    "                print(\"this event wasn't weighted!\")\n",
    "                break\n",
    "            \n",
    "            if 'TotalInteractionProbabilityWeight' in frame[\"I3MCWeightDict\"].keys():\n",
    "                weights.append(frame[\"I3MCWeightDict\"]['TotalInteractionProbabilityWeight'])\n",
    "            else:\n",
    "                total_weight = frame[\"I3MCWeightDict\"]['LeptonInjectorWeight']*weight_hnl_lifetime_framewise_modified(frame, U_tau4_sq = U_tau_sq)*U_tau_sq\n",
    "                weights.append(total_weight)\n",
    "\n",
    "    return weights"
   ]
  },
  {
   "cell_type": "code",
   "execution_count": null,
   "metadata": {},
   "outputs": [],
   "source": []
  }
 ],
 "metadata": {
  "kernelspec": {
   "display_name": "Python 3",
   "language": "python",
   "name": "python3"
  },
  "language_info": {
   "codemirror_mode": {
    "name": "ipython",
    "version": 3
   },
   "file_extension": ".py",
   "mimetype": "text/x-python",
   "name": "python",
   "nbconvert_exporter": "python",
   "pygments_lexer": "ipython3",
   "version": "3.7.5"
  }
 },
 "nbformat": 4,
 "nbformat_minor": 2
}
